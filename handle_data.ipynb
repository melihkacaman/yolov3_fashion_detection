{
 "cells": [
  {
   "cell_type": "code",
   "execution_count": 1,
   "metadata": {},
   "outputs": [],
   "source": [
    "import pandas as pd \n",
    "import os "
   ]
  },
  {
   "cell_type": "code",
   "execution_count": 3,
   "metadata": {},
   "outputs": [
    {
     "data": {
      "text/html": [
       "<div>\n",
       "<style scoped>\n",
       "    .dataframe tbody tr th:only-of-type {\n",
       "        vertical-align: middle;\n",
       "    }\n",
       "\n",
       "    .dataframe tbody tr th {\n",
       "        vertical-align: top;\n",
       "    }\n",
       "\n",
       "    .dataframe thead th {\n",
       "        text-align: right;\n",
       "    }\n",
       "</style>\n",
       "<table border=\"1\" class=\"dataframe\">\n",
       "  <thead>\n",
       "    <tr style=\"text-align: right;\">\n",
       "      <th></th>\n",
       "      <th>filename</th>\n",
       "      <th>width</th>\n",
       "      <th>height</th>\n",
       "      <th>class</th>\n",
       "      <th>xmin</th>\n",
       "      <th>ymin</th>\n",
       "      <th>xmax</th>\n",
       "      <th>ymax</th>\n",
       "    </tr>\n",
       "  </thead>\n",
       "  <tbody>\n",
       "    <tr>\n",
       "      <th>0</th>\n",
       "      <td>z2175422435650_c0e6ea5ea65fe03388d0de2c0000a3f...</td>\n",
       "      <td>416</td>\n",
       "      <td>416</td>\n",
       "      <td>dress</td>\n",
       "      <td>102</td>\n",
       "      <td>44</td>\n",
       "      <td>293</td>\n",
       "      <td>414</td>\n",
       "    </tr>\n",
       "    <tr>\n",
       "      <th>1</th>\n",
       "      <td>orange_pants--30-_jpg.rf.0d5fc77400a8306a3dfca...</td>\n",
       "      <td>195</td>\n",
       "      <td>259</td>\n",
       "      <td>bottom</td>\n",
       "      <td>53</td>\n",
       "      <td>130</td>\n",
       "      <td>141</td>\n",
       "      <td>234</td>\n",
       "    </tr>\n",
       "    <tr>\n",
       "      <th>2</th>\n",
       "      <td>73ef771d5ae7abb9f2f6_jpg.rf.d04a99711fd320d0bb...</td>\n",
       "      <td>416</td>\n",
       "      <td>416</td>\n",
       "      <td>dress</td>\n",
       "      <td>22</td>\n",
       "      <td>88</td>\n",
       "      <td>256</td>\n",
       "      <td>323</td>\n",
       "    </tr>\n",
       "    <tr>\n",
       "      <th>3</th>\n",
       "      <td>Pantalones-1740-_jpg.rf.58b49ab60b2df716ab9e0a...</td>\n",
       "      <td>224</td>\n",
       "      <td>224</td>\n",
       "      <td>bottom</td>\n",
       "      <td>6</td>\n",
       "      <td>0</td>\n",
       "      <td>217</td>\n",
       "      <td>222</td>\n",
       "    </tr>\n",
       "    <tr>\n",
       "      <th>4</th>\n",
       "      <td>47ccaaad0fe7feb9a7f6_jpg.rf.5bf20dc1bb14ca1e39...</td>\n",
       "      <td>416</td>\n",
       "      <td>416</td>\n",
       "      <td>dress</td>\n",
       "      <td>91</td>\n",
       "      <td>49</td>\n",
       "      <td>415</td>\n",
       "      <td>415</td>\n",
       "    </tr>\n",
       "  </tbody>\n",
       "</table>\n",
       "</div>"
      ],
      "text/plain": [
       "                                            filename  width  height   class  \\\n",
       "0  z2175422435650_c0e6ea5ea65fe03388d0de2c0000a3f...    416     416   dress   \n",
       "1  orange_pants--30-_jpg.rf.0d5fc77400a8306a3dfca...    195     259  bottom   \n",
       "2  73ef771d5ae7abb9f2f6_jpg.rf.d04a99711fd320d0bb...    416     416   dress   \n",
       "3  Pantalones-1740-_jpg.rf.58b49ab60b2df716ab9e0a...    224     224  bottom   \n",
       "4  47ccaaad0fe7feb9a7f6_jpg.rf.5bf20dc1bb14ca1e39...    416     416   dress   \n",
       "\n",
       "   xmin  ymin  xmax  ymax  \n",
       "0   102    44   293   414  \n",
       "1    53   130   141   234  \n",
       "2    22    88   256   323  \n",
       "3     6     0   217   222  \n",
       "4    91    49   415   415  "
      ]
     },
     "execution_count": 3,
     "metadata": {},
     "output_type": "execute_result"
    }
   ],
   "source": [
    "train_data = pd.read_csv(\"./data/dataset/train_data_processed.csv\", index_col=0)\n",
    "train_data.head() "
   ]
  },
  {
   "cell_type": "code",
   "execution_count": 4,
   "metadata": {},
   "outputs": [
    {
     "data": {
      "text/plain": [
       "(900, 8)"
      ]
     },
     "execution_count": 4,
     "metadata": {},
     "output_type": "execute_result"
    }
   ],
   "source": [
    "val_data = pd.read_csv(\"./data/dataset/val_data_processed.csv\", index_col=0) \n",
    "val_data.shape"
   ]
  },
  {
   "cell_type": "code",
   "execution_count": 11,
   "metadata": {},
   "outputs": [],
   "source": [
    "train_data = pd.concat([train_data, val_data]).reset_index(drop=True)"
   ]
  },
  {
   "cell_type": "code",
   "execution_count": 12,
   "metadata": {},
   "outputs": [],
   "source": [
    "test_data = pd.read_csv(\"./data/dataset/raw_data_pinterest/test/_annotations.csv\") "
   ]
  },
  {
   "cell_type": "code",
   "execution_count": 34,
   "metadata": {},
   "outputs": [
    {
     "data": {
      "text/plain": [
       "(7, 8)"
      ]
     },
     "execution_count": 34,
     "metadata": {},
     "output_type": "execute_result"
    }
   ],
   "source": [
    "test_data.shape "
   ]
  },
  {
   "cell_type": "code",
   "execution_count": 7,
   "metadata": {},
   "outputs": [
    {
     "data": {
      "text/plain": [
       "{'bottom': 0, 'top': 1, 'dress': 2}"
      ]
     },
     "execution_count": 7,
     "metadata": {},
     "output_type": "execute_result"
    }
   ],
   "source": [
    "classes = {value:key for (key,value) in train_data['class'].value_counts().index.to_series().reset_index(drop=True).to_dict().items()}\n",
    "classes"
   ]
  },
  {
   "cell_type": "code",
   "execution_count": 8,
   "metadata": {},
   "outputs": [],
   "source": [
    "def parse_csv_to_pascal(df: pd.DataFrame): \n",
    "    data = {} \n",
    "\n",
    "    for i in range(len(df.index)):\n",
    "        xmin = int(df.iloc[i]['xmin'])\n",
    "        ymin = int(df.iloc[i]['ymin'])\n",
    "        xmax = int(df.iloc[i]['xmax'])\n",
    "        ymax = int(df.iloc[i]['ymax']) \n",
    "\n",
    "        object_class = classes[df.iloc[i]['class']]\n",
    "\n",
    "        if df.iloc[i]['filename'] in data.keys():\n",
    "            data[df.iloc[i]['filename']].append([xmin, ymin, xmax, ymax, object_class])\n",
    "        else:\n",
    "            data.update({df.iloc[i]['filename'] : [[xmin, ymin, xmax, ymax, object_class]]})\n",
    "    \n",
    "\n",
    "    return data "
   ]
  },
  {
   "cell_type": "code",
   "execution_count": 9,
   "metadata": {},
   "outputs": [],
   "source": [
    "train_pascal_dic = parse_csv_to_pascal(train_data)"
   ]
  },
  {
   "cell_type": "code",
   "execution_count": 11,
   "metadata": {},
   "outputs": [],
   "source": [
    "test_pascal_dic = parse_csv_to_pascal(val_data) "
   ]
  },
  {
   "cell_type": "code",
   "execution_count": 12,
   "metadata": {},
   "outputs": [],
   "source": [
    "import shutil \n",
    "\n",
    "def modify_data(data, path_to_images, path_to_output): \n",
    "    path_to_save_annotations = os.path.join(path_to_output, 'annotations_train.txt') \n",
    "\n",
    "    with open(path_to_save_annotations, 'a+') as f:\n",
    "\n",
    "        for img_name, detections in data.items(): \n",
    "\n",
    "            path_to_input_img = os.path.join(path_to_images, img_name) \n",
    "\n",
    "            name_without_spaces = img_name.replace(' ','') \n",
    "            path_to_output_img = os.path.join(path_to_output, name_without_spaces)\n",
    "\n",
    "            shutil.copy(path_to_input_img, path_to_output_img)\n",
    "\n",
    "            # save detections in the new annotations file\n",
    "            f.write(f'{path_to_output_img} ')\n",
    "            for detection in detections:\n",
    "                xmin, ymin, xmax, ymax, c = detection\n",
    "                f.write(f'{xmin},{ymin},{xmax},{ymax},{c} ')\n",
    "            \n",
    "            f.write('\\n')\n",
    "\n",
    "    print('Done saving annotations')"
   ]
  },
  {
   "cell_type": "code",
   "execution_count": 13,
   "metadata": {},
   "outputs": [
    {
     "name": "stdout",
     "output_type": "stream",
     "text": [
      "Done saving annotations\n"
     ]
    }
   ],
   "source": [
    "modify_data(train_pascal_dic, './data/dataset/data_merge', './data/dataset/processed_yolo/train/')"
   ]
  },
  {
   "cell_type": "code",
   "execution_count": 14,
   "metadata": {},
   "outputs": [
    {
     "name": "stdout",
     "output_type": "stream",
     "text": [
      "Done saving annotations\n"
     ]
    }
   ],
   "source": [
    "modify_data(test_pascal_dic, './data/dataset/data_merge', './data/dataset/processed_yolo/test/')"
   ]
  },
  {
   "cell_type": "code",
   "execution_count": null,
   "metadata": {},
   "outputs": [],
   "source": []
  }
 ],
 "metadata": {
  "kernelspec": {
   "display_name": "Python 3.9.13 ('env_similar-products')",
   "language": "python",
   "name": "python3"
  },
  "language_info": {
   "codemirror_mode": {
    "name": "ipython",
    "version": 3
   },
   "file_extension": ".py",
   "mimetype": "text/x-python",
   "name": "python",
   "nbconvert_exporter": "python",
   "pygments_lexer": "ipython3",
   "version": "3.9.13"
  },
  "orig_nbformat": 4,
  "vscode": {
   "interpreter": {
    "hash": "3a9fdba9d57aea1bb5c6986083e3594030ae55b020a0216061e1820b16640168"
   }
  }
 },
 "nbformat": 4,
 "nbformat_minor": 2
}
