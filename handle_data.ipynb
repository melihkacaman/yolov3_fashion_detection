{
 "cells": [
  {
   "cell_type": "code",
   "execution_count": 2,
   "metadata": {},
   "outputs": [],
   "source": [
    "import pandas as pd \n",
    "import os "
   ]
  },
  {
   "cell_type": "code",
   "execution_count": 7,
   "metadata": {},
   "outputs": [
    {
     "data": {
      "text/html": [
       "<div>\n",
       "<style scoped>\n",
       "    .dataframe tbody tr th:only-of-type {\n",
       "        vertical-align: middle;\n",
       "    }\n",
       "\n",
       "    .dataframe tbody tr th {\n",
       "        vertical-align: top;\n",
       "    }\n",
       "\n",
       "    .dataframe thead th {\n",
       "        text-align: right;\n",
       "    }\n",
       "</style>\n",
       "<table border=\"1\" class=\"dataframe\">\n",
       "  <thead>\n",
       "    <tr style=\"text-align: right;\">\n",
       "      <th></th>\n",
       "      <th>filename</th>\n",
       "      <th>width</th>\n",
       "      <th>height</th>\n",
       "      <th>class</th>\n",
       "      <th>xmin</th>\n",
       "      <th>ymin</th>\n",
       "      <th>xmax</th>\n",
       "      <th>ymax</th>\n",
       "    </tr>\n",
       "  </thead>\n",
       "  <tbody>\n",
       "    <tr>\n",
       "      <th>0</th>\n",
       "      <td>59ed27db4b561f28eb48c380b8940573_jpg.rf.dee95c...</td>\n",
       "      <td>416</td>\n",
       "      <td>416</td>\n",
       "      <td>top</td>\n",
       "      <td>103</td>\n",
       "      <td>149</td>\n",
       "      <td>399</td>\n",
       "      <td>410</td>\n",
       "    </tr>\n",
       "    <tr>\n",
       "      <th>1</th>\n",
       "      <td>59ed27db4b561f28eb48c380b8940573_jpg.rf.dee95c...</td>\n",
       "      <td>416</td>\n",
       "      <td>416</td>\n",
       "      <td>glasses</td>\n",
       "      <td>162</td>\n",
       "      <td>99</td>\n",
       "      <td>254</td>\n",
       "      <td>125</td>\n",
       "    </tr>\n",
       "    <tr>\n",
       "      <th>2</th>\n",
       "      <td>b911cc29e6614dff3bb3d5e01387bd0b_jpg.rf.dcc99e...</td>\n",
       "      <td>416</td>\n",
       "      <td>416</td>\n",
       "      <td>top</td>\n",
       "      <td>113</td>\n",
       "      <td>142</td>\n",
       "      <td>287</td>\n",
       "      <td>280</td>\n",
       "    </tr>\n",
       "    <tr>\n",
       "      <th>3</th>\n",
       "      <td>b911cc29e6614dff3bb3d5e01387bd0b_jpg.rf.dcc99e...</td>\n",
       "      <td>416</td>\n",
       "      <td>416</td>\n",
       "      <td>pants</td>\n",
       "      <td>101</td>\n",
       "      <td>1</td>\n",
       "      <td>282</td>\n",
       "      <td>139</td>\n",
       "    </tr>\n",
       "    <tr>\n",
       "      <th>4</th>\n",
       "      <td>4b72224fbd21490c283c25f7881b08b0--blazer-casua...</td>\n",
       "      <td>416</td>\n",
       "      <td>416</td>\n",
       "      <td>pants</td>\n",
       "      <td>224</td>\n",
       "      <td>246</td>\n",
       "      <td>386</td>\n",
       "      <td>414</td>\n",
       "    </tr>\n",
       "  </tbody>\n",
       "</table>\n",
       "</div>"
      ],
      "text/plain": [
       "                                            filename  width  height    class  \\\n",
       "0  59ed27db4b561f28eb48c380b8940573_jpg.rf.dee95c...    416     416      top   \n",
       "1  59ed27db4b561f28eb48c380b8940573_jpg.rf.dee95c...    416     416  glasses   \n",
       "2  b911cc29e6614dff3bb3d5e01387bd0b_jpg.rf.dcc99e...    416     416      top   \n",
       "3  b911cc29e6614dff3bb3d5e01387bd0b_jpg.rf.dcc99e...    416     416    pants   \n",
       "4  4b72224fbd21490c283c25f7881b08b0--blazer-casua...    416     416    pants   \n",
       "\n",
       "   xmin  ymin  xmax  ymax  \n",
       "0   103   149   399   410  \n",
       "1   162    99   254   125  \n",
       "2   113   142   287   280  \n",
       "3   101     1   282   139  \n",
       "4   224   246   386   414  "
      ]
     },
     "execution_count": 7,
     "metadata": {},
     "output_type": "execute_result"
    }
   ],
   "source": [
    "train_data = pd.read_csv(\"./data/dataset/raw_data_pinterest/train/_annotations.csv\")\n",
    "train_data.head() "
   ]
  },
  {
   "cell_type": "code",
   "execution_count": 8,
   "metadata": {},
   "outputs": [
    {
     "data": {
      "text/plain": [
       "(83, 8)"
      ]
     },
     "execution_count": 8,
     "metadata": {},
     "output_type": "execute_result"
    }
   ],
   "source": [
    "val_data = pd.read_csv(\"./data/dataset/raw_data_pinterest/valid/_annotations.csv\") \n",
    "val_data.shape"
   ]
  },
  {
   "cell_type": "code",
   "execution_count": 11,
   "metadata": {},
   "outputs": [],
   "source": [
    "train_data = pd.concat([train_data, val_data]).reset_index(drop=True)"
   ]
  },
  {
   "cell_type": "code",
   "execution_count": 12,
   "metadata": {},
   "outputs": [],
   "source": [
    "test_data = pd.read_csv(\"./data/dataset/raw_data_pinterest/test/_annotations.csv\") "
   ]
  },
  {
   "cell_type": "code",
   "execution_count": 34,
   "metadata": {},
   "outputs": [
    {
     "data": {
      "text/plain": [
       "(7, 8)"
      ]
     },
     "execution_count": 34,
     "metadata": {},
     "output_type": "execute_result"
    }
   ],
   "source": [
    "test_data.shape "
   ]
  },
  {
   "cell_type": "code",
   "execution_count": 26,
   "metadata": {},
   "outputs": [
    {
     "data": {
      "text/plain": [
       "{'shoes': 0,\n",
       " 'top': 1,\n",
       " 'pants': 2,\n",
       " 'bag': 3,\n",
       " 'glasses': 4,\n",
       " 'accessories': 5,\n",
       " 'hat': 6,\n",
       " 'dress': 7,\n",
       " 'low': 8}"
      ]
     },
     "execution_count": 26,
     "metadata": {},
     "output_type": "execute_result"
    }
   ],
   "source": [
    "classes = {value:key for (key,value) in train_data['class'].value_counts().index.to_series().reset_index(drop=True).to_dict().items()}\n",
    "classes"
   ]
  },
  {
   "cell_type": "code",
   "execution_count": 27,
   "metadata": {},
   "outputs": [],
   "source": [
    "def parse_csv_to_pascal(df: pd.DataFrame): \n",
    "    data = {} \n",
    "\n",
    "    for i in range(len(df.index)):\n",
    "        xmin = int(df.iloc[i]['xmin'])\n",
    "        ymin = int(df.iloc[i]['ymin'])\n",
    "        xmax = int(df.iloc[i]['xmax'])\n",
    "        ymax = int(df.iloc[i]['ymax']) \n",
    "\n",
    "        object_class = classes[df.iloc[i]['class']]\n",
    "\n",
    "        if df.iloc[i]['filename'] in data.keys():\n",
    "            data[df.iloc[i]['filename']].append([xmin, ymin, xmax, ymax, object_class])\n",
    "        else:\n",
    "            data.update({df.iloc[i]['filename'] : [[xmin, ymin, xmax, ymax, object_class]]})\n",
    "    \n",
    "\n",
    "    return data "
   ]
  },
  {
   "cell_type": "code",
   "execution_count": 28,
   "metadata": {},
   "outputs": [],
   "source": [
    "train_pascal_dic = parse_csv_to_pascal(train_data)"
   ]
  },
  {
   "cell_type": "code",
   "execution_count": 32,
   "metadata": {},
   "outputs": [],
   "source": [
    "test_pascal_dic = parse_csv_to_pascal(test_data) "
   ]
  },
  {
   "cell_type": "code",
   "execution_count": 33,
   "metadata": {},
   "outputs": [],
   "source": [
    "import shutil \n",
    "\n",
    "def modify_data(data, path_to_images, path_to_output): \n",
    "    path_to_save_annotations = os.path.join(path_to_output, 'annotations.txt') \n",
    "\n",
    "    with open(path_to_save_annotations, 'a+') as f:\n",
    "\n",
    "        for img_name, detections in data.items(): \n",
    "\n",
    "            path_to_input_img = os.path.join(path_to_images, img_name) \n",
    "\n",
    "            name_without_spaces = img_name.replace(' ','') \n",
    "            path_to_output_img = os.path.join(path_to_output, name_without_spaces)\n",
    "\n",
    "            shutil.copy(path_to_input_img, path_to_output_img)\n",
    "\n",
    "            # save detections in the new annotations file\n",
    "            f.write(f'{path_to_output_img} ')\n",
    "            for detection in detections:\n",
    "                xmin, ymin, xmax, ymax, c = detection\n",
    "                f.write(f'{xmin},{ymin},{xmax},{ymax},{c} ')\n",
    "            \n",
    "            f.write('\\n')\n",
    "\n",
    "    print('Done saving annotations')"
   ]
  },
  {
   "cell_type": "code",
   "execution_count": 36,
   "metadata": {},
   "outputs": [
    {
     "name": "stdout",
     "output_type": "stream",
     "text": [
      "Done saving annotations\n"
     ]
    }
   ],
   "source": [
    "modify_data(train_pascal_dic, './data/dataset/raw_data_pinterest/train/', './data/dataset/processed_yolo/train/')"
   ]
  },
  {
   "cell_type": "code",
   "execution_count": 37,
   "metadata": {},
   "outputs": [
    {
     "name": "stdout",
     "output_type": "stream",
     "text": [
      "Done saving annotations\n"
     ]
    }
   ],
   "source": [
    "modify_data(test_pascal_dic, './data/dataset/raw_data_pinterest/test/', './data/dataset/processed_yolo/test/')"
   ]
  },
  {
   "cell_type": "code",
   "execution_count": null,
   "metadata": {},
   "outputs": [],
   "source": []
  }
 ],
 "metadata": {
  "kernelspec": {
   "display_name": "tf2_obj_api",
   "language": "python",
   "name": "python3"
  },
  "language_info": {
   "codemirror_mode": {
    "name": "ipython",
    "version": 3
   },
   "file_extension": ".py",
   "mimetype": "text/x-python",
   "name": "python",
   "nbconvert_exporter": "python",
   "pygments_lexer": "ipython3",
   "version": "3.8.16"
  },
  "orig_nbformat": 4,
  "vscode": {
   "interpreter": {
    "hash": "0813d3ab804f90ed6360cefa5a0d59953db8c53cd7c34f09ab6ac76715167647"
   }
  }
 },
 "nbformat": 4,
 "nbformat_minor": 2
}
